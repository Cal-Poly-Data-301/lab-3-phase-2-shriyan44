{
  "nbformat": 4,
  "nbformat_minor": 0,
  "metadata": {
    "kernelspec": {
      "display_name": "Python 3",
      "language": "python",
      "name": "python3"
    },
    "language_info": {
      "codemirror_mode": {
        "name": "ipython",
        "version": 3
      },
      "file_extension": ".py",
      "mimetype": "text/x-python",
      "name": "python",
      "nbconvert_exporter": "python",
      "pygments_lexer": "ipython3",
      "version": "3.6.8"
    },
    "colab": {
      "name": "Copy of DATA 301 Lab 3 - Shriya Nimmagadda and Ricky Chavez",
      "provenance": [],
      "collapsed_sections": [],
      "include_colab_link": true
    }
  },
  "cells": [
    {
      "cell_type": "markdown",
      "metadata": {
        "id": "view-in-github",
        "colab_type": "text"
      },
      "source": [


        "<a href=\"https://colab.research.google.com/github/shriyan44/lab-3-phase-2-shriyan44/blob/main/Copy_of_DATA_301_Lab_3_Shriya_Nimmagadda_and_Ricky_Chavez.ipynb\" target=\"_parent\"><img src=\"https://colab.research.google.com/assets/colab-badge.svg\" alt=\"Open In Colab\"/></a>"
      ]
    },
    {
      "cell_type": "markdown",
      "metadata": {
        "id": "D26Xw4A0OIcR"
      },
      "source": [
        "# Retrieval Practice and Learning\n",
        "\n",
        "What is the most effective way to learn a subject? Many students focus exclusively on the _encoding_ process---that is, how to get the knowledge into memory in the first place. For example, taking notes is an activity for encoding knowledge.\n",
        "\n",
        "_Retrieval_, on the other hand, is the process of reconstructing that knowledge from memory. [Karpicke and Blunt](http://science.sciencemag.org/content/331/6018/772) (2011) demonstrated that _retrieval_ is more effective for learning than activites designed to promote effective encoding. They conducted an experiment in which subjects had to learn about sea otters by reading a passage. Subjects were randomly assigned to one of two conditions: some were instructed to create a [concept map](https://en.wikipedia.org/wiki/Concept_map) as they read the passage, while others were instructed to practice retrieval (i.e., read the passage, recall as much as they could, read the text again, and recall again). The two main measurements they recorded were:\n",
        "\n",
        "1. each subject's score on a follow-up learning test one week later\n",
        "2. each subject's _prediction_ of how well they would do on that test\n",
        "\n",
        "In this lab, you will analyze data from a _replication_ of Karpicke and Blunt's experiment, conducted by Buttrick _et al_.\n",
        "- The data file is here: https://dlsun.github.io/pods/data/KarpickeBlunt2011Replication/data.csv.\n",
        "- The codebook (explaining what the variables mean) is here: https://dlsun.github.io/pods/data/KarpickeBlunt2011Replication/codebook.csv."
      ]
    },
    {
      "cell_type": "code",
      "metadata": {
        "id": "11XV7qKfOIcU",
        "colab": {
          "base_uri": "https://localhost:8080/",
          "height": 268
        },
        "outputId": "8792b485-3da2-4dd6-b620-6f98d5e903b6"
      },
      "source": [
        "import pandas as pd\n",
        "\n",
        "data_dir = \"https://dlsun.github.io/pods/data/KarpickeBlunt2011Replication/\"\n",
        "df_data = pd.read_csv(data_dir + \"data.csv\")\n",
        "df_data.head()"
      ],
      "execution_count": null,
      "outputs": [
        {
          "output_type": "execute_result",
          "data": {
            "text/html": [
              "\n",
              "  <div id=\"df-d0014b4e-405c-47a1-9d96-236704144796\">\n",
              "    <div class=\"colab-df-container\">\n",
              "      <div>\n",
              "<style scoped>\n",
              "    .dataframe tbody tr th:only-of-type {\n",
              "        vertical-align: middle;\n",
              "    }\n",
              "\n",
              "    .dataframe tbody tr th {\n",
              "        vertical-align: top;\n",
              "    }\n",
              "\n",
              "    .dataframe thead th {\n",
              "        text-align: right;\n",
              "    }\n",
              "</style>\n",
              "<table border=\"1\" class=\"dataframe\">\n",
              "  <thead>\n",
              "    <tr style=\"text-align: right;\">\n",
              "      <th></th>\n",
              "      <th>ID</th>\n",
              "      <th>Age</th>\n",
              "      <th>Gender</th>\n",
              "      <th>Date.P1</th>\n",
              "      <th>Date.P2</th>\n",
              "      <th>Condition</th>\n",
              "      <th>IC.1</th>\n",
              "      <th>IC.2</th>\n",
              "      <th>Comp.1</th>\n",
              "      <th>Comp.2</th>\n",
              "      <th>PR.1</th>\n",
              "      <th>PR.2</th>\n",
              "      <th>MCS.1</th>\n",
              "      <th>Scorer.1</th>\n",
              "      <th>MCS.2</th>\n",
              "      <th>Scorer.2</th>\n",
              "      <th>MCS.avg</th>\n",
              "      <th>R1CS.1</th>\n",
              "      <th>Scorer.1.1</th>\n",
              "      <th>R1CS.2</th>\n",
              "      <th>Scorer.2.1</th>\n",
              "      <th>R1CS.avg</th>\n",
              "      <th>R2CS.1</th>\n",
              "      <th>Scorer.1.2</th>\n",
              "      <th>R2CS.2</th>\n",
              "      <th>Scorer.2.2</th>\n",
              "      <th>R2CS.avg</th>\n",
              "      <th>TS.1</th>\n",
              "      <th>Scorer.1.3</th>\n",
              "      <th>TS.2</th>\n",
              "      <th>Scorer.2.3</th>\n",
              "      <th>TS.avg</th>\n",
              "      <th>Exc.1</th>\n",
              "      <th>Exc.2</th>\n",
              "      <th>Collection</th>\n",
              "    </tr>\n",
              "  </thead>\n",
              "  <tbody>\n",
              "    <tr>\n",
              "      <th>0</th>\n",
              "      <td>KB1</td>\n",
              "      <td>18</td>\n",
              "      <td>Female</td>\n",
              "      <td>11/21/16</td>\n",
              "      <td>11/28/16</td>\n",
              "      <td>Concept</td>\n",
              "      <td>1</td>\n",
              "      <td>1</td>\n",
              "      <td>1</td>\n",
              "      <td>1</td>\n",
              "      <td>1.0</td>\n",
              "      <td>0.80</td>\n",
              "      <td>0.750</td>\n",
              "      <td>NK</td>\n",
              "      <td>0.670</td>\n",
              "      <td>TT</td>\n",
              "      <td>0.7100</td>\n",
              "      <td>NaN</td>\n",
              "      <td>NaN</td>\n",
              "      <td>NaN</td>\n",
              "      <td>NaN</td>\n",
              "      <td>NaN</td>\n",
              "      <td>NaN</td>\n",
              "      <td>NaN</td>\n",
              "      <td>NaN</td>\n",
              "      <td>NaN</td>\n",
              "      <td>NaN</td>\n",
              "      <td>0.36</td>\n",
              "      <td>NK</td>\n",
              "      <td>0.42</td>\n",
              "      <td>MS</td>\n",
              "      <td>0.39</td>\n",
              "      <td>0</td>\n",
              "      <td>0</td>\n",
              "      <td>1</td>\n",
              "    </tr>\n",
              "    <tr>\n",
              "      <th>1</th>\n",
              "      <td>KB2</td>\n",
              "      <td>18</td>\n",
              "      <td>Male</td>\n",
              "      <td>11/21/16</td>\n",
              "      <td>11/28/16</td>\n",
              "      <td>Concept</td>\n",
              "      <td>1</td>\n",
              "      <td>1</td>\n",
              "      <td>1</td>\n",
              "      <td>1</td>\n",
              "      <td>0.0</td>\n",
              "      <td>0.70</td>\n",
              "      <td>0.400</td>\n",
              "      <td>NK</td>\n",
              "      <td>0.367</td>\n",
              "      <td>TT</td>\n",
              "      <td>0.3835</td>\n",
              "      <td>NaN</td>\n",
              "      <td>NaN</td>\n",
              "      <td>NaN</td>\n",
              "      <td>NaN</td>\n",
              "      <td>NaN</td>\n",
              "      <td>NaN</td>\n",
              "      <td>NaN</td>\n",
              "      <td>NaN</td>\n",
              "      <td>NaN</td>\n",
              "      <td>NaN</td>\n",
              "      <td>0.48</td>\n",
              "      <td>MS</td>\n",
              "      <td>0.36</td>\n",
              "      <td>NK</td>\n",
              "      <td>0.42</td>\n",
              "      <td>0</td>\n",
              "      <td>0</td>\n",
              "      <td>1</td>\n",
              "    </tr>\n",
              "    <tr>\n",
              "      <th>2</th>\n",
              "      <td>KB3</td>\n",
              "      <td>18</td>\n",
              "      <td>Male</td>\n",
              "      <td>11/21/16</td>\n",
              "      <td>11/28/16</td>\n",
              "      <td>Concept</td>\n",
              "      <td>1</td>\n",
              "      <td>1</td>\n",
              "      <td>1</td>\n",
              "      <td>1</td>\n",
              "      <td>0.0</td>\n",
              "      <td>0.70</td>\n",
              "      <td>0.433</td>\n",
              "      <td>NK</td>\n",
              "      <td>0.550</td>\n",
              "      <td>MS</td>\n",
              "      <td>0.4915</td>\n",
              "      <td>NaN</td>\n",
              "      <td>NaN</td>\n",
              "      <td>NaN</td>\n",
              "      <td>NaN</td>\n",
              "      <td>NaN</td>\n",
              "      <td>NaN</td>\n",
              "      <td>NaN</td>\n",
              "      <td>NaN</td>\n",
              "      <td>NaN</td>\n",
              "      <td>NaN</td>\n",
              "      <td>0.08</td>\n",
              "      <td>NK</td>\n",
              "      <td>0.08</td>\n",
              "      <td>MS</td>\n",
              "      <td>0.08</td>\n",
              "      <td>0</td>\n",
              "      <td>0</td>\n",
              "      <td>1</td>\n",
              "    </tr>\n",
              "    <tr>\n",
              "      <th>3</th>\n",
              "      <td>KB4</td>\n",
              "      <td>19</td>\n",
              "      <td>Female</td>\n",
              "      <td>11/21/16</td>\n",
              "      <td>11/28/16</td>\n",
              "      <td>Concept</td>\n",
              "      <td>1</td>\n",
              "      <td>1</td>\n",
              "      <td>1</td>\n",
              "      <td>1</td>\n",
              "      <td>0.0</td>\n",
              "      <td>0.70</td>\n",
              "      <td>0.317</td>\n",
              "      <td>NK</td>\n",
              "      <td>0.333</td>\n",
              "      <td>MS</td>\n",
              "      <td>0.3250</td>\n",
              "      <td>NaN</td>\n",
              "      <td>NaN</td>\n",
              "      <td>NaN</td>\n",
              "      <td>NaN</td>\n",
              "      <td>NaN</td>\n",
              "      <td>NaN</td>\n",
              "      <td>NaN</td>\n",
              "      <td>NaN</td>\n",
              "      <td>NaN</td>\n",
              "      <td>NaN</td>\n",
              "      <td>0.44</td>\n",
              "      <td>MS</td>\n",
              "      <td>0.42</td>\n",
              "      <td>NK</td>\n",
              "      <td>0.43</td>\n",
              "      <td>0</td>\n",
              "      <td>0</td>\n",
              "      <td>1</td>\n",
              "    </tr>\n",
              "    <tr>\n",
              "      <th>4</th>\n",
              "      <td>KB5</td>\n",
              "      <td>19</td>\n",
              "      <td>Female</td>\n",
              "      <td>11/22/16</td>\n",
              "      <td>11/29/16</td>\n",
              "      <td>Concept</td>\n",
              "      <td>1</td>\n",
              "      <td>1</td>\n",
              "      <td>1</td>\n",
              "      <td>1</td>\n",
              "      <td>0.0</td>\n",
              "      <td>0.95</td>\n",
              "      <td>0.683</td>\n",
              "      <td>NK</td>\n",
              "      <td>0.717</td>\n",
              "      <td>MS</td>\n",
              "      <td>0.7000</td>\n",
              "      <td>NaN</td>\n",
              "      <td>NaN</td>\n",
              "      <td>NaN</td>\n",
              "      <td>NaN</td>\n",
              "      <td>NaN</td>\n",
              "      <td>NaN</td>\n",
              "      <td>NaN</td>\n",
              "      <td>NaN</td>\n",
              "      <td>NaN</td>\n",
              "      <td>NaN</td>\n",
              "      <td>0.26</td>\n",
              "      <td>NK</td>\n",
              "      <td>0.28</td>\n",
              "      <td>MS</td>\n",
              "      <td>0.27</td>\n",
              "      <td>0</td>\n",
              "      <td>0</td>\n",
              "      <td>1</td>\n",
              "    </tr>\n",
              "  </tbody>\n",
              "</table>\n",
              "</div>\n",
              "      <button class=\"colab-df-convert\" onclick=\"convertToInteractive('df-d0014b4e-405c-47a1-9d96-236704144796')\"\n",
              "              title=\"Convert this dataframe to an interactive table.\"\n",
              "              style=\"display:none;\">\n",
              "        \n",
              "  <svg xmlns=\"http://www.w3.org/2000/svg\" height=\"24px\"viewBox=\"0 0 24 24\"\n",
              "       width=\"24px\">\n",
              "    <path d=\"M0 0h24v24H0V0z\" fill=\"none\"/>\n",
              "    <path d=\"M18.56 5.44l.94 2.06.94-2.06 2.06-.94-2.06-.94-.94-2.06-.94 2.06-2.06.94zm-11 1L8.5 8.5l.94-2.06 2.06-.94-2.06-.94L8.5 2.5l-.94 2.06-2.06.94zm10 10l.94 2.06.94-2.06 2.06-.94-2.06-.94-.94-2.06-.94 2.06-2.06.94z\"/><path d=\"M17.41 7.96l-1.37-1.37c-.4-.4-.92-.59-1.43-.59-.52 0-1.04.2-1.43.59L10.3 9.45l-7.72 7.72c-.78.78-.78 2.05 0 2.83L4 21.41c.39.39.9.59 1.41.59.51 0 1.02-.2 1.41-.59l7.78-7.78 2.81-2.81c.8-.78.8-2.07 0-2.86zM5.41 20L4 18.59l7.72-7.72 1.47 1.35L5.41 20z\"/>\n",
              "  </svg>\n",
              "      </button>\n",
              "      \n",
              "  <style>\n",
              "    .colab-df-container {\n",
              "      display:flex;\n",
              "      flex-wrap:wrap;\n",
              "      gap: 12px;\n",
              "    }\n",
              "\n",
              "    .colab-df-convert {\n",
              "      background-color: #E8F0FE;\n",
              "      border: none;\n",
              "      border-radius: 50%;\n",
              "      cursor: pointer;\n",
              "      display: none;\n",
              "      fill: #1967D2;\n",
              "      height: 32px;\n",
              "      padding: 0 0 0 0;\n",
              "      width: 32px;\n",
              "    }\n",
              "\n",
              "    .colab-df-convert:hover {\n",
              "      background-color: #E2EBFA;\n",
              "      box-shadow: 0px 1px 2px rgba(60, 64, 67, 0.3), 0px 1px 3px 1px rgba(60, 64, 67, 0.15);\n",
              "      fill: #174EA6;\n",
              "    }\n",
              "\n",
              "    [theme=dark] .colab-df-convert {\n",
              "      background-color: #3B4455;\n",
              "      fill: #D2E3FC;\n",
              "    }\n",
              "\n",
              "    [theme=dark] .colab-df-convert:hover {\n",
              "      background-color: #434B5C;\n",
              "      box-shadow: 0px 1px 3px 1px rgba(0, 0, 0, 0.15);\n",
              "      filter: drop-shadow(0px 1px 2px rgba(0, 0, 0, 0.3));\n",
              "      fill: #FFFFFF;\n",
              "    }\n",
              "  </style>\n",
              "\n",
              "      <script>\n",
              "        const buttonEl =\n",
              "          document.querySelector('#df-d0014b4e-405c-47a1-9d96-236704144796 button.colab-df-convert');\n",
              "        buttonEl.style.display =\n",
              "          google.colab.kernel.accessAllowed ? 'block' : 'none';\n",
              "\n",
              "        async function convertToInteractive(key) {\n",
              "          const element = document.querySelector('#df-d0014b4e-405c-47a1-9d96-236704144796');\n",
              "          const dataTable =\n",
              "            await google.colab.kernel.invokeFunction('convertToInteractive',\n",
              "                                                     [key], {});\n",
              "          if (!dataTable) return;\n",
              "\n",
              "          const docLinkHtml = 'Like what you see? Visit the ' +\n",
              "            '<a target=\"_blank\" href=https://colab.research.google.com/notebooks/data_table.ipynb>data table notebook</a>'\n",
              "            + ' to learn more about interactive tables.';\n",
              "          element.innerHTML = '';\n",
              "          dataTable['output_type'] = 'display_data';\n",
              "          await google.colab.output.renderOutput(dataTable, element);\n",
              "          const docLink = document.createElement('div');\n",
              "          docLink.innerHTML = docLinkHtml;\n",
              "          element.appendChild(docLink);\n",
              "        }\n",
              "      </script>\n",
              "    </div>\n",
              "  </div>\n",
              "  "
            ],
            "text/plain": [
              "    ID  Age  Gender   Date.P1  ... TS.avg Exc.1  Exc.2  Collection\n",
              "0  KB1   18  Female  11/21/16  ...   0.39     0      0           1\n",
              "1  KB2   18    Male  11/21/16  ...   0.42     0      0           1\n",
              "2  KB3   18    Male  11/21/16  ...   0.08     0      0           1\n",
              "3  KB4   19  Female  11/21/16  ...   0.43     0      0           1\n",
              "4  KB5   19  Female  11/22/16  ...   0.27     0      0           1\n",
              "\n",
              "[5 rows x 35 columns]"
            ]
          },
          "metadata": {},
          "execution_count": 1
        }
      ]
    },
    {
      "cell_type": "markdown",
      "metadata": {
        "id": "UfEXABNbOIca"
      },
      "source": [
        "# Question 1\n",
        "\n",
        "Which group felt like they learned more: the subjects who made concept maps or the ones who practiced retrieval? (Or are they about the same?) Make an appropriate visualization and explain what you see.\n",
        "\n",
        "_Hint:_ Use the variable `PR.2`, which contains the participants' predictions of how well they would do on a test one week later."
      ]
    },
    {
      "cell_type": "code",
      "metadata": {
        "id": "50TS8ZF1OIcb",
        "colab": {
          "base_uri": "https://localhost:8080/",
          "height": 331
        },
        "outputId": "91eb9fb6-6cc2-45bd-a86d-666ef7383211"
      },
      "source": [
        "df_data.groupby(\"Condition\")[\"PR.2\"].mean().plot.bar()"
      ],
      "execution_count": null,
      "outputs": [
        {
          "output_type": "execute_result",
          "data": {
            "text/plain": [
              "<matplotlib.axes._subplots.AxesSubplot at 0x7f42c08c41d0>"
            ]
          },
          "metadata": {},
          "execution_count": 2
        },
        {
          "output_type": "display_data",
          "data": {
            "image/png": "[encoded data removed]",
            "text/plain": [
              "<Figure size 432x288 with 1 Axes>"
            ]
          },
          "metadata": {
            "needs_background": "light"
          }
        }
      ]
    },
    {
      "cell_type": "markdown",
      "metadata": {
        "id": "P6gqpWXLOIcg"
      },
      "source": [
        "By plotting the average predictions for Condition we can see that Concept map subjects predicted that they would learn more than retrieval subjects."
      ]
    },
    {
      "cell_type": "markdown",
      "metadata": {
        "id": "FiFkblz8OIch"
      },
      "source": [
        "# Question 2\n",
        "\n",
        "Which group actually did better on the follow-up learning test one week later? Make an appropriate visualization and explain what you see.\n",
        "\n",
        "_Hint:_ Don't ask which variable you should use. That is for you to figure out. Read the codebook carefully (consulting the [original paper](http://science.sciencemag.org/content/331/6018/772), if necessary), make an informed decision, and explain your choice."
      ]
    },
    {
      "cell_type": "code",
      "metadata": {
        "id": "Th_st4KzOIci",
        "colab": {
          "base_uri": "https://localhost:8080/",
          "height": 331
        },
        "outputId": "0f372739-8656-4c3d-8cf3-fa77b73152ed"
      },
      "source": [
        "df_data.groupby(\"Condition\")[\"TS.avg\"].mean().plot.bar()"
      ],
      "execution_count": null,
      "outputs": [
        {
          "output_type": "execute_result",
          "data": {
            "text/plain": [
              "<matplotlib.axes._subplots.AxesSubplot at 0x7f42c0817e90>"
            ]
          },
          "metadata": {},
          "execution_count": 3
        },
        {
          "output_type": "display_data",
          "data": {
            "image/png": "[encoded data removed]",
            "text/plain": [
              "<Figure size 432x288 with 1 Axes>"
            ]
          },
          "metadata": {
            "needs_background": "light"
          }
        }
      ]
    },
    {
      "cell_type": "markdown",
      "metadata": {
        "id": "t3d928CqOIcn"
      },
      "source": [
        "I chose to use the Test Score Average to compare. I didn't want to compare the Retireval and Concept scores because they are different tests so they may different points/ scored differently so it seems like the Test Score Average will have taken the difference into account so we can compare them fairly.\n",
        "\n",
        "Based on the graph we can see that on average, the Retireval subjects actually scored better than the Ceoncept ones. They scored .6 on average while Concept subjects avg score was .45"
      ]
    },
    {
      "cell_type": "markdown",
      "metadata": {
        "id": "e_fjtBzsOIco"
      },
      "source": [
        "# Question 3\n",
        "\n",
        "How good were subjects at predicting how well they would do on the follow-up learning test? Calculate a measure of how well subjects predicted their performance and interpret the value in context. (Optionally, you may want to include a visualization as well.)"
      ]
    },
    {

      "cell_type": "code",
      "source": [
        "df_conc = df_data.loc[(df_data[\"Condition\"] == \"Concept\")]\n",
        "df_ret = df_data.loc[(df_data[\"Condition\"] == \"Retrieval\")]\n",
        "\n",
        "\n",
        "df_ret[\"Approx. Error Retrival Pred.\"] = abs( (df_ret[\"TS.avg\"] -  df_ret[\"PR.2\"]) / df_ret[\"PR.2\"]) * 100\n",
        "df_ret[\"Approx. Error Retrival Pred.\"].plot.density(legend=True)\n",
        "\n",
        "df_conc[\"Approx. Error Concept Pred.\"] = abs((df_conc[\"TS.avg\"] - df_conc[\"PR.2\"]) / df_conc[\"PR.2\"] ) * 100\n",
        "df_conc[\"Approx. Error Concept Pred.\"].plot.density(legend=True)\n",
        "\n",
        "print(df_ret[\"Approx. Error Retrival Pred.\"])\n",
        "print(df_conc[\"Approx. Error Concept Pred.\"])"
      ],
      "metadata": {
        "colab": {
          "base_uri": "https://localhost:8080/",
          "height": 1000
        },
        "id": "hK8Yygp6IKbN",
        "outputId": "8c060e83-da4f-4f7c-9b8f-b2ede893d4e1"
      },
      "execution_count": 4,
      "outputs": [
        {
          "output_type": "stream",
          "name": "stderr",
          "text": [
            "/usr/local/lib/python3.7/dist-packages/ipykernel_launcher.py:5: SettingWithCopyWarning: \n",
            "A value is trying to be set on a copy of a slice from a DataFrame.\n",
            "Try using .loc[row_indexer,col_indexer] = value instead\n",
            "\n",
            "See the caveats in the documentation: https://pandas.pydata.org/pandas-docs/stable/user_guide/indexing.html#returning-a-view-versus-a-copy\n",
            "  \"\"\"\n",
            "/usr/local/lib/python3.7/dist-packages/ipykernel_launcher.py:8: SettingWithCopyWarning: \n",
            "A value is trying to be set on a copy of a slice from a DataFrame.\n",
            "Try using .loc[row_indexer,col_indexer] = value instead\n",
            "\n",
            "See the caveats in the documentation: https://pandas.pydata.org/pandas-docs/stable/user_guide/indexing.html#returning-a-view-versus-a-copy\n",
            "  \n"
          ]
        },
        {
          "output_type": "stream",
          "name": "stdout",
          "text": [
            "10     15.000000\n",
            "11     31.666667\n",
            "12     11.111111\n",
            "13     37.142857\n",
            "14     13.333333\n",
            "15     50.000000\n",
            "16     11.428571\n",
            "17     82.500000\n",
            "18      3.333333\n",
            "32     53.750000\n",
            "33     11.111111\n",
            "34     45.000000\n",
            "37     57.500000\n",
            "38     13.333333\n",
            "39    110.000000\n",
            "40     40.000000\n",
            "42     36.000000\n",
            "Name: Approx. Error Retrival Pred., dtype: float64\n",
            "0      51.250000\n",
            "1      40.000000\n",
            "2      88.571429\n",
            "3      38.571429\n",
            "4      71.578947\n",
            "5      28.333333\n",
            "6      38.333333\n",
            "7      10.000000\n",
            "8       1.666667\n",
            "9      24.444444\n",
            "19     27.500000\n",
            "20     68.333333\n",
            "21     24.444444\n",
            "22     41.111111\n",
            "23      1.666667\n",
            "24     57.142857\n",
            "25     25.714286\n",
            "26     14.000000\n",
            "27     33.333333\n",
            "28    100.000000\n",
            "29     63.333333\n",
            "30     28.571429\n",
            "31      8.571429\n",
            "35     71.428571\n",
            "36     30.000000\n",
            "41     58.000000\n",
            "Name: Approx. Error Concept Pred., dtype: float64\n"
          ]
        },
        {
          "output_type": "display_data",
          "data": {
            "image/png": "[encoded data removed]",
            "text/plain": [
              "<Figure size 432x288 with 1 Axes>"
            ]
          },
          "metadata": {
            "needs_background": "light"
          }
        }
      ]
    },
    {
      "cell_type": "markdown",
      "source": [
        "We plotted a density plot to compare the Approximate Error for the predicted test score and actual average test scores of the follow up test for Retrieval and Concept map subjects. This plot shows us the aproximate difference of predictions and test scores as percent differences so we can see that the Retrieval subjects were better at prediciting because the curve overall was smaller than the Concept subject curve. The Concept subjects peak was a bit higher at 45% differences of scores.\n"
      ],
      "metadata": {
        "id": "Z_kv2OliH2AE"
      }
    },
    {
      "cell_type": "markdown",
      "metadata": {
        "id": "SypkJtWNOIc4"
      },
      "source": [
        "## Submission Instructions\n",
        "\n",
        "- Copy this notebook to your own Drive, if you have not already.\n",
        "- Restart this notebook and run the cells from beginning to end. \n",
        "  - Go to Runtime > Restart and Run All.\n",
        "- Rename this notebook by clicking on \"DATA 301 Lab 3 - YOUR NAMES HERE\" at the very top of this page. Replace \"YOUR NAMES HERE\" with the first and last names of you (and your partner for Phase 2).\n",
        "- Get the link to your notebook:\n",
        "  - Click on \"Share\" at the top-right. \n",
        "  - Change the settings to \"Anyone with the link can view\". \n",
        "  - Copy the sharing link into Canvas."
      ]
    }
  ]
}